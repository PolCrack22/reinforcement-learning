{
 "cells": [
  {
   "cell_type": "markdown",
   "id": "1af8b8e0",
   "metadata": {},
   "source": [
    "\n",
    "# FrozenLake Environment Exploration with Reinforcement Learning\n",
    "\n",
    "Pablo Quiroz Apud\n",
    "\n",
    "This project demonstrates the application of reinforcement learning techniques on the \"FrozenLake\" environment \n",
    "from OpenAI Gym. The objective is to train an agent to navigate the slippery FrozenLake to reach the goal \n",
    "while avoiding holes.\n",
    "\n",
    "## Objectives:\n",
    "1. Understand the structure of the FrozenLake environment.\n",
    "2. Implement a reinforcement learning algorithm (e.g., Q-learning).\n",
    "3. Evaluate the agent's performance and visualize results.\n",
    "    "
   ]
  },
  {
   "cell_type": "code",
   "execution_count": 1,
   "id": "d372ec91",
   "metadata": {},
   "outputs": [],
   "source": [
    "import numpy as np\n",
    "import gym\n",
    "import matplotlib.pyplot as plt"
   ]
  },
  {
   "cell_type": "markdown",
   "id": "96856231",
   "metadata": {},
   "source": [
    "\n",
    "## Environment Setup\n",
    "\n",
    "Here we import necessary libraries and set up the FrozenLake environment. We also define important \n",
    "parameters for the experiment, including the state and action spaces.\n",
    "    "
   ]
  },
  {
   "cell_type": "code",
   "execution_count": 2,
   "id": "59c7c1f2",
   "metadata": {},
   "outputs": [
    {
     "name": "stdout",
     "output_type": "stream",
     "text": [
      "Requirement already satisfied: gym[toy_text] in c:\\users\\pquir\\anaconda3\\envs\\tf\\lib\\site-packages (0.26.2)\n",
      "Requirement already satisfied: numpy>=1.18.0 in c:\\users\\pquir\\anaconda3\\envs\\tf\\lib\\site-packages (from gym[toy_text]) (1.23.5)\n",
      "Requirement already satisfied: cloudpickle>=1.2.0 in c:\\users\\pquir\\anaconda3\\envs\\tf\\lib\\site-packages (from gym[toy_text]) (2.2.1)\n",
      "Requirement already satisfied: gym-notices>=0.0.4 in c:\\users\\pquir\\anaconda3\\envs\\tf\\lib\\site-packages (from gym[toy_text]) (0.0.8)\n",
      "Requirement already satisfied: pygame==2.1.0 in c:\\users\\pquir\\anaconda3\\envs\\tf\\lib\\site-packages (from gym[toy_text]) (2.1.0)\n",
      "Note: you may need to restart the kernel to use updated packages.\n"
     ]
    },
    {
     "name": "stderr",
     "output_type": "stream",
     "text": [
      "\n",
      "[notice] A new release of pip is available: 24.2 -> 24.3.1\n",
      "[notice] To update, run: python.exe -m pip install --upgrade pip\n"
     ]
    }
   ],
   "source": [
    "pip install gym[toy_text]"
   ]
  },
  {
   "cell_type": "code",
   "execution_count": 3,
   "id": "0b34749e",
   "metadata": {},
   "outputs": [],
   "source": [
    "env = gym.make(\"FrozenLake-v1\", is_slippery=True)\n",
    "n_observations = env.observation_space.n\n",
    "n_actions = env.action_space.n"
   ]
  },
  {
   "cell_type": "markdown",
   "id": "82edab97",
   "metadata": {},
   "source": [
    "\n",
    "## Methodology\n",
    "\n",
    "In this section, we implement the reinforcement learning algorithm. We'll focus on Q-learning to train\n",
    "an agent that learns an optimal policy through iterative updates.\n",
    "\n",
    "### Key Steps:\n",
    "1. Initialize the Q-table.\n",
    "2. Define a reward structure.\n",
    "3. Use an epsilon-greedy strategy for action selection.\n",
    "4. Update the Q-table based on rewards and transitions.\n",
    "    "
   ]
  },
  {
   "cell_type": "code",
   "execution_count": 4,
   "id": "77a60d2d",
   "metadata": {},
   "outputs": [
    {
     "name": "stdout",
     "output_type": "stream",
     "text": [
      "[[0. 0. 0. 0.]\n",
      " [0. 0. 0. 0.]\n",
      " [0. 0. 0. 0.]\n",
      " [0. 0. 0. 0.]\n",
      " [0. 0. 0. 0.]\n",
      " [0. 0. 0. 0.]\n",
      " [0. 0. 0. 0.]\n",
      " [0. 0. 0. 0.]\n",
      " [0. 0. 0. 0.]\n",
      " [0. 0. 0. 0.]\n",
      " [0. 0. 0. 0.]\n",
      " [0. 0. 0. 0.]\n",
      " [0. 0. 0. 0.]\n",
      " [0. 0. 0. 0.]\n",
      " [0. 0. 0. 0.]\n",
      " [0. 0. 0. 0.]]\n"
     ]
    }
   ],
   "source": [
    "#Initialize the Q-table to 0\n",
    "Q_table = np.zeros((n_observations,n_actions))\n",
    "print(Q_table)"
   ]
  },
  {
   "cell_type": "code",
   "execution_count": null,
   "id": "3caaf1dc",
   "metadata": {},
   "outputs": [],
   "source": []
  },
  {
   "cell_type": "code",
   "execution_count": null,
   "id": "db2eba63",
   "metadata": {},
   "outputs": [],
   "source": []
  },
  {
   "cell_type": "code",
   "execution_count": null,
   "id": "5248c042",
   "metadata": {},
   "outputs": [],
   "source": []
  },
  {
   "cell_type": "code",
   "execution_count": 5,
   "id": "642e6990",
   "metadata": {},
   "outputs": [
    {
     "name": "stdout",
     "output_type": "stream",
     "text": [
      "Episode:  1000  Avg Return (last 50):  0.04\n",
      "Episode:  2000  Avg Return (last 50):  0.18\n",
      "Episode:  3000  Avg Return (last 50):  0.26\n",
      "Episode:  4000  Avg Return (last 50):  0.4\n",
      "Episode:  5000  Avg Return (last 50):  0.56\n",
      "Episode:  6000  Avg Return (last 50):  0.56\n",
      "Episode:  7000  Avg Return (last 50):  0.62\n",
      "Episode:  8000  Avg Return (last 50):  0.42\n",
      "Episode:  9000  Avg Return (last 50):  0.56\n",
      "Episode:  10000  Avg Return (last 50):  0.4\n",
      "Episode:  11000  Avg Return (last 50):  0.48\n",
      "Episode:  12000  Avg Return (last 50):  0.5\n",
      "Episode:  13000  Avg Return (last 50):  0.36\n",
      "Episode:  14000  Avg Return (last 50):  0.3\n",
      "Episode:  15000  Avg Return (last 50):  0.3\n",
      "Episode:  16000  Avg Return (last 50):  0.56\n",
      "Episode:  17000  Avg Return (last 50):  0.3\n",
      "Episode:  18000  Avg Return (last 50):  0.7\n",
      "Episode:  19000  Avg Return (last 50):  0.5\n",
      "Episode:  20000  Avg Return (last 50):  0.38\n",
      "Episode:  21000  Avg Return (last 50):  0.56\n",
      "Episode:  22000  Avg Return (last 50):  0.38\n",
      "Episode:  23000  Avg Return (last 50):  0.42\n",
      "Episode:  24000  Avg Return (last 50):  0.44\n",
      "Episode:  25000  Avg Return (last 50):  0.36\n",
      "Episode:  26000  Avg Return (last 50):  0.54\n",
      "Episode:  27000  Avg Return (last 50):  0.48\n",
      "Episode:  28000  Avg Return (last 50):  0.54\n",
      "Episode:  29000  Avg Return (last 50):  0.48\n",
      "Episode:  30000  Avg Return (last 50):  0.48\n",
      "Episode:  31000  Avg Return (last 50):  0.42\n",
      "Episode:  32000  Avg Return (last 50):  0.56\n",
      "Episode:  33000  Avg Return (last 50):  0.32\n",
      "Episode:  34000  Avg Return (last 50):  0.22\n",
      "Episode:  35000  Avg Return (last 50):  0.68\n",
      "Episode:  36000  Avg Return (last 50):  0.24\n",
      "Episode:  37000  Avg Return (last 50):  0.46\n",
      "Episode:  38000  Avg Return (last 50):  0.46\n",
      "Episode:  39000  Avg Return (last 50):  0.5\n",
      "Episode:  40000  Avg Return (last 50):  0.42\n",
      "Episode:  41000  Avg Return (last 50):  0.5\n",
      "Episode:  42000  Avg Return (last 50):  0.58\n",
      "Episode:  43000  Avg Return (last 50):  0.36\n",
      "Episode:  44000  Avg Return (last 50):  0.46\n",
      "Episode:  45000  Avg Return (last 50):  0.62\n",
      "Episode:  46000  Avg Return (last 50):  0.62\n",
      "Episode:  47000  Avg Return (last 50):  0.28\n",
      "Episode:  48000  Avg Return (last 50):  0.36\n",
      "Episode:  49000  Avg Return (last 50):  0.22\n",
      "Episode:  50000  Avg Return (last 50):  0.64\n"
     ]
    }
   ],
   "source": [
    "n_episodes = 50000\n",
    "max_iter_episode = 100\n",
    "exploration_proba = 1.0\n",
    "min_exploration_proba = 0.01\n",
    "exploration_decreasing_decay = 0.001\n",
    "lr = 0.8\n",
    "gamma = 0.95\n",
    "rewards_per_episode = []\n",
    "\n",
    "# Initialize Q-table\n",
    "Q_table = np.zeros((env.observation_space.n, env.action_space.n))\n",
    "\n",
    "# Initialize variables for tracking average return over last 50 episodes\n",
    "avg_returns = []\n",
    "window_size = 50\n",
    "total_return = 0\n",
    "\n",
    "for e in range(n_episodes):\n",
    "    #we initialize the first state of the episode\n",
    "    current_state, info = env.reset()\n",
    "    done = False\n",
    "    \n",
    "    #sum the rewards that the agent gets from the environment\n",
    "    total_episode_reward = 0\n",
    "    \n",
    "    for i in range(max_iter_episode): \n",
    "        # we sample a float from a uniform distribution over 0 and 1\n",
    "        # if the sampled float is less than the exploration proba\n",
    "        #     the agent selects a random action\n",
    "        # else\n",
    "        #     he exploits his knowledge using the bellman equation \n",
    "        \n",
    "        if np.random.uniform(0,1) < exploration_proba:\n",
    "            action = env.action_space.sample()\n",
    "        else:\n",
    "            action = np.argmax(Q_table[current_state,:])\n",
    "            \n",
    "        # The environment runs the chosen action and returns\n",
    "        # the next state, a reward and true if the episode is ended.\n",
    "        next_state, reward, terminated, truncated, info = env.step(action)\n",
    "        done = terminated or truncated\n",
    "        \n",
    "        # We update our Q-table using the Q-learning iteration\n",
    "        Q_table[current_state, action] = (1-lr) * Q_table[current_state, action] + lr*(reward + gamma*max(Q_table[next_state,:]))\n",
    "        total_episode_reward += reward\n",
    "        \n",
    "        # If the episode is finished, we leave the for loop\n",
    "        if done:\n",
    "            break\n",
    "        current_state = next_state\n",
    "        \n",
    "    #We update the exploration proba using exponential decay formula \n",
    "    exploration_proba = max(min_exploration_proba, np.exp(-exploration_decreasing_decay*e))\n",
    "    \n",
    "    # Record episode return and add it to the total return\n",
    "    rewards_per_episode.append(total_episode_reward)\n",
    "    total_return += total_episode_reward\n",
    "    \n",
    "    # If we have completed enough episodes to compute an average return over the last 50 episodes\n",
    "    if e >= window_size:\n",
    "        # Subtract the oldest return from the total return\n",
    "        total_return -= rewards_per_episode[e - window_size]\n",
    "        # Compute the average return over the last 50 episodes\n",
    "        avg_return = total_return / window_size\n",
    "        # Add the average return to our list of average returns\n",
    "        avg_returns.append(avg_return)\n",
    "    \n",
    "    # Print the current episode number and average return over the last 50 episodes every 1000 episodes\n",
    "    if (e+1) % 1000 == 0:\n",
    "        print(\"Episode: \", e+1, \" Avg Return (last 50): \", avg_returns[-1])\n",
    "\n"
   ]
  },
  {
   "cell_type": "markdown",
   "id": "f7000675",
   "metadata": {},
   "source": [
    "\n",
    "## Results and Analysis\n",
    "\n",
    "Here we evaluate the trained agent's performance. We visualize key metrics, such as the learning curve\n",
    "and the success rate, to understand the efficacy of the training process.\n",
    "    "
   ]
  },
  {
   "cell_type": "code",
   "execution_count": 6,
   "id": "49c5118c",
   "metadata": {},
   "outputs": [
    {
     "data": {
      "image/png": "[encoded data removed]",
      "text/plain": [
       "<Figure size 640x480 with 1 Axes>"
      ]
     },
     "metadata": {},
     "output_type": "display_data"
    }
   ],
   "source": [
    "# Plot the average return over the last 50 episodes vs episode number\n",
    "plt.plot(avg_returns)\n",
    "plt.xlabel(\"Episode Number\")\n",
    "plt.ylabel(\"Average Return (last 50)\")\n",
    "plt.show()\n"
   ]
  },
  {
   "cell_type": "code",
   "execution_count": 7,
   "id": "bd8b5acc",
   "metadata": {},
   "outputs": [
    {
     "name": "stdout",
     "output_type": "stream",
     "text": [
      "Mean reward per thousand episodes\n",
      "1000 : mean episode reward:  0.027\n",
      "2000 : mean episode reward:  0.077\n",
      "3000 : mean episode reward:  0.189\n",
      "4000 : mean episode reward:  0.338\n",
      "5000 : mean episode reward:  0.456\n",
      "6000 : mean episode reward:  0.432\n",
      "7000 : mean episode reward:  0.535\n",
      "8000 : mean episode reward:  0.502\n",
      "9000 : mean episode reward:  0.53\n",
      "10000 : mean episode reward:  0.524\n"
     ]
    }
   ],
   "source": [
    "\n",
    "print(\"Mean reward per thousand episodes\")\n",
    "for i in range(10):\n",
    "    print((i+1)*1000, \": mean episode reward: \", np.mean(rewards_per_episode[1000*i:1000*(i+1)]))\n"
   ]
  },
  {
   "cell_type": "markdown",
   "id": "1f36c51a",
   "metadata": {},
   "source": [
    "\n",
    "## Conclusion\n",
    "\n",
    "The project showcases the use of reinforcement learning for solving the FrozenLake environment. The \n",
    "results highlight the challenges of working with stochastic environments and the importance of \n",
    "tuning hyperparameters. Future work could explore other RL algorithms, such as Deep Q-Networks (DQN), \n",
    "or experiment with custom reward structures.\n",
    "    "
   ]
  },
  {
   "cell_type": "code",
   "execution_count": null,
   "id": "45cc94f1",
   "metadata": {},
   "outputs": [],
   "source": []
  }
 ],
 "metadata": {
  "kernelspec": {
   "display_name": "Python 3 (ipykernel)",
   "language": "python",
   "name": "python3"
  },
  "language_info": {
   "codemirror_mode": {
    "name": "ipython",
    "version": 3
   },
   "file_extension": ".py",
   "mimetype": "text/x-python",
   "name": "python",
   "nbconvert_exporter": "python",
   "pygments_lexer": "ipython3",
   "version": "3.10.9"
  }
 },
 "nbformat": 4,
 "nbformat_minor": 5
}
